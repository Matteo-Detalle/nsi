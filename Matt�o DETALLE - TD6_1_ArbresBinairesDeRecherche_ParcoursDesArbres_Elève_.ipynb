{
  "cells": [
    {
      "cell_type": "markdown",
      "id": "krJhJZACyCSo",
      "metadata": {
        "id": "krJhJZACyCSo"
      },
      "source": [
        "\n",
        "#TD6.1.ArbresBinairesDeRecherche-ParcoursDesArbres\n",
        "\n",
        "\n",
        "\n",
        "\n",
        "\n",
        "\n",
        "<p align =center>\n",
        "\n",
        " <img src='https://github.com/esabahi/NSI_Images/blob/main/NSI-Image.png?raw=true' width=400>\n",
        "\n",
        "</p>\n",
        "\n",
        "\n"
      ]
    },
    {
      "cell_type": "markdown",
      "id": "L9Zj1T9IyYCm",
      "metadata": {
        "id": "L9Zj1T9IyYCm"
      },
      "source": [
        "\n",
        "> **<u>Objectifs</u>**\n",
        "\n",
        "-   Travailler les capacités abordées dans le cours et attendues par le\n",
        "    programme officiel sur la définition d’une structure de données en\n",
        "    Arbre et les algorithmes de parcours et de recherche.\n",
        "\n",
        "\n",
        "> **<u>Consignes:</u>**\n",
        "\n",
        "-   Vous pouvez exploiter le code Python de la classe Arbre vu\n",
        "    pendantle  cours C2.2.LesArbres ou le TP2.2\n",
        "\n",
        "-   N'oubliez pas de commenter votre code et de laisser les différents\n",
        "    tests que vous auriez effectués sur votre code."
      ]
    },
    {
      "cell_type": "markdown",
      "id": "Yn2dkDtdy_ql",
      "metadata": {
        "id": "Yn2dkDtdy_ql"
      },
      "source": [
        "\n",
        "\n",
        "**Exercice 1 : Arbres Binaires De Recherche**\n",
        "\n",
        " **<u>Définition:</u>**\n",
        "\n",
        "Un arbre binaire de recherche ABR (**Binary Search Tree (BST) en\n",
        "anglais)** est un arbre binaire étiqueté avec des clés tel que:\n",
        "\n",
        "-   Les clés du sous arbre gauche sont inférieures ou égales à celle de\n",
        "  la racine;\n",
        "\n",
        "-   Les clés du sous arbre droit sont strictement supérieures à celle de\n",
        "  la racine;\n",
        "\n",
        "-   Les deux sous arbres sont eux-mêmes des arbres binaires de\n",
        "    recherche.\n",
        "\n",
        "1.  **<u>Exploiter un arbre binaire de recherche</u>**\n",
        "\n",
        "    a.  Écrire une fonction **isaBST** qui indique si un arbre binaire\n",
        " est un arbre binaire de recherche\n"
      ]
    },
    {
      "cell_type": "code",
      "execution_count": 1,
      "id": "5vR68q7k0Bmv",
      "metadata": {
        "id": "5vR68q7k0Bmv"
      },
      "outputs": [],
      "source": [
        "#Ecrire votre code ci-dessous:\n",
        "\n",
        "def isaBST(arbre):\n",
        "    if arbre == None:\n",
        "        return False\n",
        "    \n",
        "    if arbre.filsGauche != None:\n",
        "        if arbre.filsGauche.contenu < arbre.contenu:\n",
        "            return isaBST(arbre.filsGauche)\n",
        "        else:\n",
        "            return False\n",
        "      \n",
        "    if arbre.filsDroit != None:\n",
        "        if arbre.filsDroit.contenu > arbre.contenu:\n",
        "            return isaBST(arbre.filsDroit)\n",
        "        else:\n",
        "            return False\n",
        "      \n",
        "    return True"
      ]
    },
    {
      "cell_type": "markdown",
      "id": "vPE3GacS1Mhx",
      "metadata": {
        "id": "vPE3GacS1Mhx"
      },
      "source": [
        "2. Écrire une fonction **smallestElementBST** qui renvoie le plus petit élément d’un arbre binaire de recherche"
      ]
    },
    {
      "cell_type": "code",
      "execution_count": null,
      "id": "j1mAI4or26NK",
      "metadata": {
        "id": "j1mAI4or26NK"
      },
      "outputs": [],
      "source": [
        "#Ecrire votre code ci-dessous:\n",
        "\n",
        "def smallestElementBST(arbre):\n",
        "\tif arbre == None:\n",
        "\t\treturn False\n",
        "\tif arbre.filsGauche != None: #étant donné qu'on est dans un arbre binaire , le plus petit est forcément celui le plus à gauche \n",
        "\t\treturn smallestElementBST(arbre.filsGauche)\n",
        "\telse:\n",
        "\t\treturn arbre.contenu"
      ]
    },
    {
      "cell_type": "markdown",
      "id": "SDDT5Tgi2y__",
      "metadata": {
        "id": "SDDT5Tgi2y__"
      },
      "source": [
        "3.  Écrire une fonction **greatestElementBST** qui renvoie le plus grand élément d’un arbre binaire de recherche."
      ]
    },
    {
      "cell_type": "code",
      "execution_count": null,
      "id": "dX-nyyE824gN",
      "metadata": {
        "id": "dX-nyyE824gN"
      },
      "outputs": [],
      "source": [
        "#Ecrire votre code ci-dessous:\n",
        "\n",
        "def greatestElementBST(arbre):\n",
        "\tif arbre == None:\n",
        "\t\treturn False\n",
        "\tif arbre.filsDroit != None: #meme principe mais avec filsDroit du coup\n",
        "\t\treturn greatestElementBST(arbre.filsDroit)\n",
        "\telse:\n",
        "\t\treturn arbre.contenu"
      ]
    },
    {
      "cell_type": "markdown",
      "id": "QR493X7G265O",
      "metadata": {
        "id": "QR493X7G265O"
      },
      "source": [
        "4. Écrire un fonction **existElementBST** qui indique si une valeur donnée en paramètre est présente dans un arbre binaire de recherche.\n"
      ]
    },
    {
      "cell_type": "code",
      "execution_count": null,
      "id": "7oCuHgvB3CNI",
      "metadata": {
        "id": "7oCuHgvB3CNI"
      },
      "outputs": [],
      "source": [
        "#Ecrire votre code ci-dessous:\n",
        "\n",
        "def existElement(arbre,valeur):\n",
        "\tif arbre == None:\n",
        "\t\treturn False\n",
        "\tif arbre.contenu == valeur:\n",
        "\t\treturn True\n",
        "\telse:\n",
        "\t\tif arbre.filsGauche:\n",
        "\t\t\tif existElement(arbre.filsGauche,valeur):\n",
        "\t\t\t\treturn True\n",
        "\t\tif arbre.filsDroit:\n",
        "\t\t\tif existElement(arbre.filsDroit,valeur):\n",
        "\t\t\t\treturn True\n",
        "\t\telse:\n",
        "\t\t\treturn False"
      ]
    },
    {
      "cell_type": "markdown",
      "id": "Tj_UavXD3DAh",
      "metadata": {
        "id": "Tj_UavXD3DAh"
      },
      "source": [
        "5.  Écrire une fonction **insertElementBST** qui permet d'insérer un élément dans un arbre binaire de recherche.\n"
      ]
    },
    {
      "cell_type": "code",
      "execution_count": null,
      "id": "7BtNw4pS3GZp",
      "metadata": {
        "id": "7BtNw4pS3GZp"
      },
      "outputs": [],
      "source": [
        "#Ecrire votre code ci-dessous:\n",
        "\n",
        "def insertElementBST(arbre,valeur): #en prenant en compte que la class de l'arbre est \"ArbreBinaire\" , sinon je ne peux pas créer de nouvelles instances\n",
        "    if arbre.contenu == valeur:\n",
        "        pass\n",
        "    elif arbre.contenu>valeur:\n",
        "        if arbre.filsGauche == None:\n",
        "            arbre.filsGauche = ArbreBinaire(valeur)\n",
        "        else:\n",
        "            insertElementBST(arbre.filsGauche,valeur)\n",
        "    else:\n",
        "        if arbre.filsDroit == None:\n",
        "            arbre.filsDroit = ArbreBinaire(valeur)\n",
        "        else:\n",
        "            insertElementBST(arbre.filsDroit,valeur)"
      ]
    },
    {
      "cell_type": "markdown",
      "id": "nOq6Qnu63LZ8",
      "metadata": {
        "id": "nOq6Qnu63LZ8"
      },
      "source": [
        "\n",
        "6.  Écrire une fonction **removeElementBST** qui permet de supprimer un élément dans un arbre binaire de recherche"
      ]
    },
    {
      "cell_type": "code",
      "execution_count": null,
      "id": "Pl-1sTfE3S2t",
      "metadata": {
        "id": "Pl-1sTfE3S2t"
      },
      "outputs": [],
      "source": [
        "#Ecrire votre code ci-dessous:\n",
        "\n",
        "def removeElementBST(arbre,valeur): #pour le moment supprime juste la valeur mais pas l'instance donc pas ouf\n",
        "    if arbre.contenu == valeur:\n",
        "        arbre.contenu = None\n",
        "    elif arbre.contenu>valeur:\n",
        "        removeElementBST(arbre.filsGauche,valeur)\n",
        "    else:\n",
        "        removeElementBST(arbre.filsDroit,valeur)"
      ]
    },
    {
      "cell_type": "markdown",
      "id": "0UQq50eY3bxP",
      "metadata": {
        "id": "0UQq50eY3bxP"
      },
      "source": [
        "*Exercice 2 : Arbres représentant des expressions arithmétiques**\n",
        "\n",
        "Les quatres opérations +,-,$\\times$,et $\\div$sont des opérateurs binaires.\n",
        "\n",
        "Une expression ne comptant que ces opérations peut être représentée sous\n",
        "forme d’arbre binaire comportant deux sortes de nœuds: les noeuds\n",
        "internes sont des opérateurs et les feuilles sont des nombres.\n",
        "\n",
        "1.  **<u>Représentation</u>**\n",
        "\n",
        "Représenter par un dessin (sur Drawings par exemple) l’arbre de l’expression suivante (12x9)+(8-5). Joindre votre dessin à votre rendu.\n",
        "\n",
        "2.  **<u>Construction d’une instance</u>**\n",
        "\n",
        "En reprenant le code de la classe Arbre construire une instance E représentant l'expression précédente\n"
      ]
    },
    {
      "cell_type": "code",
      "execution_count": null,
      "id": "LS-6QDsb3wki",
      "metadata": {
        "id": "LS-6QDsb3wki"
      },
      "outputs": [],
      "source": [
        "#Ecrire votre code ci-dessous:"
      ]
    },
    {
      "cell_type": "markdown",
      "id": "-5ikPz063xQx",
      "metadata": {
        "id": "-5ikPz063xQx"
      },
      "source": [
        "\n",
        "3.  **<u>Parcours</u>**\n",
        "\n",
        "-   Choisir le parcours adéquat (parmi les quatre parcours vu en cours) qui permettra une lecture correcte de l’expression ci-dessus puis son affichage.\n",
        "\n",
        "-   Écrire la fonction permettant son affichage selon le parcours choisi."
      ]
    },
    {
      "cell_type": "code",
      "execution_count": null,
      "id": "GQpK0wip36Pb",
      "metadata": {
        "id": "GQpK0wip36Pb"
      },
      "outputs": [],
      "source": [
        "#Ecrire votre code ci-dessous:"
      ]
    },
    {
      "cell_type": "markdown",
      "id": "4DayQvQyT-9o",
      "metadata": {
        "id": "4DayQvQyT-9o"
      },
      "source": [
        "\n",
        "**Exercice 3 : Arbres syntaxiques**\n",
        "\n",
        "Python dispose d’une grammaire qui indique la structure des programmes.\n",
        "\n",
        "Lorsque l'interpréteur Python lit du code source, il construit tout\n",
        "d’abord l’arbre syntaxique du code.\n",
        "\n",
        "1.  **<u>Représentation</u>**\n",
        "\n",
        "> Dresser l’arbre du programme suivant sur un dessin(menu insertion Dessin):"
      ]
    },
    {
      "cell_type": "code",
      "execution_count": null,
      "id": "Ba697vMqUB1C",
      "metadata": {
        "id": "Ba697vMqUB1C"
      },
      "outputs": [],
      "source": [
        "a=3\n",
        "while(a>0):\n",
        "  a=a-1\n",
        "  print(a)"
      ]
    },
    {
      "cell_type": "markdown",
      "id": "Y1tTemka3_YT",
      "metadata": {
        "id": "Y1tTemka3_YT"
      },
      "source": [
        "\n",
        "\n",
        "\n",
        "2.  **<u>Construction d’une instance</u>**\n",
        "\n",
        "> En reprenant le code de la classe Arbre construire une instance P représentant l’arbre du programme précédent.\n",
        "\n",
        "3.  **<u>Parcours</u>**\n",
        "\n",
        "-   Choisir le parcours adéquat (parmi les quatre parcours vu en cours) qui permettra une lecture correcte du programme.\n",
        "\n",
        "-   Écrire la fonction permettant son affichage selon le parcours choisi."
      ]
    },
    {
      "cell_type": "code",
      "execution_count": null,
      "id": "ksJJNm9PT2Fw",
      "metadata": {
        "id": "ksJJNm9PT2Fw"
      },
      "outputs": [],
      "source": [
        "#Ecrire votre code ci-dessous:"
      ]
    },
    {
      "cell_type": "markdown",
      "id": "RunMWhnXz9n3",
      "metadata": {
        "id": "RunMWhnXz9n3"
      },
      "source": [
        "|<span style='color:Blue'> E.S |  | |   | |     |<span style='color:Blue'> NSI Première & Terminale | |   | ||<span style='color:Blue'> Lycée Ozanam (Lille)\n",
        "| --- | --- |--- |--- |--- |--- | --- | --- |--- |--- | --- | --- |"
      ]
    }
  ],
  "metadata": {
    "colab": {
      "provenance": []
    },
    "kernelspec": {
      "display_name": "Python 3",
      "language": "python",
      "name": "python3"
    },
    "language_info": {
      "codemirror_mode": {
        "name": "ipython",
        "version": 3
      },
      "file_extension": ".py",
      "mimetype": "text/x-python",
      "name": "python",
      "nbconvert_exporter": "python",
      "pygments_lexer": "ipython3",
      "version": "3.11.1"
    }
  },
  "nbformat": 4,
  "nbformat_minor": 5
}
