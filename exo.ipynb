{
 "cells": [
  {
   "cell_type": "code",
   "execution_count": 5,
   "metadata": {},
   "outputs": [
    {
     "name": "stdout",
     "output_type": "stream",
     "text": [
      "[2, 3, 4, 5, 7, 8, 9]\n"
     ]
    }
   ],
   "source": [
    "#Fonction de tri par fusion :\n",
    "\n",
    "def triFusion(tab):\n",
    "    if len(tab) == 1:\n",
    "        return tab\n",
    "    else:\n",
    "        return fusion(triFusion(tab[:len(tab) // 2]), triFusion(tab[len(tab) // 2:]))\n",
    "\n",
    "def fusion(a, b):\n",
    "    if len(a) == 0:\n",
    "        return b\n",
    "    elif len(b) == 0:\n",
    "        return a\n",
    "    elif a[0] <= b[0]:\n",
    "        return [a[0]] + fusion(a[1:], b)\n",
    "    else:\n",
    "        return [b[0]] + fusion(a, b[1:])\n",
    "\n",
    "print(triFusion([9, 4, 5, 2, 7, 8, 3]))"
   ]
  }
 ],
 "metadata": {
  "kernelspec": {
   "display_name": "Python 3",
   "language": "python",
   "name": "python3"
  },
  "language_info": {
   "codemirror_mode": {
    "name": "ipython",
    "version": 3
   },
   "file_extension": ".py",
   "mimetype": "text/x-python",
   "name": "python",
   "nbconvert_exporter": "python",
   "pygments_lexer": "ipython3",
   "version": "3.11.1"
  },
  "orig_nbformat": 4
 },
 "nbformat": 4,
 "nbformat_minor": 2
}
