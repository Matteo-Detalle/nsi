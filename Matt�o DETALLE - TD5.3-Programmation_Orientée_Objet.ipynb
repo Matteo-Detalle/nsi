{
  "metadata": {
    "colab": {
      "provenance": []
    },
    "kernelspec": {
      "name": "python",
      "display_name": "Python (Pyodide)",
      "language": "python"
    },
    "language_info": {
      "codemirror_mode": {
        "name": "python",
        "version": 3
      },
      "file_extension": ".py",
      "mimetype": "text/x-python",
      "name": "python",
      "nbconvert_exporter": "python",
      "pygments_lexer": "ipython3",
      "version": "3.8"
    }
  },
  "nbformat_minor": 5,
  "nbformat": 4,
  "cells": [
    {
      "cell_type": "markdown",
      "source": "---",
      "metadata": {},
      "id": "ed0a8088"
    },
    {
      "cell_type": "markdown",
      "source": " <p align =center> <img src=\"https://github.com/esabahi/NSI_Images/blob/main/NSI-Image.png?raw=true\" width=350>\n    </p>",
      "metadata": {},
      "id": "b88a1932"
    },
    {
      "cell_type": "markdown",
      "source": "# TD5.3 - Programmation_Orientée_Objet\n\n\n****************************************\n\n",
      "metadata": {
        "id": "W84lcE_dziVB"
      },
      "id": "W84lcE_dziVB"
    },
    {
      "cell_type": "markdown",
      "source": "Exercice 1:",
      "metadata": {},
      "id": "f083c0e8"
    },
    {
      "cell_type": "markdown",
      "source": "Votre réponse:\n\n---------\n<font color='green'>ici.....</font>\n",
      "metadata": {
        "id": "1c703444"
      },
      "id": "1c703444"
    },
    {
      "cell_type": "code",
      "source": "class File:\n    def __init__(self , titre , réalisateur):\n        self.titre = titre\n        self.réalisateur = réalisateur\n    \n    def get_titre(self):\n        return self.titre\n    def set_titre(self,titre):\n        self.titre = titre\n    \n    def get_réalisateur(self):\n        return self.réalisateur\n    def set_réalisateur(self,réalisateur):\n        self.réalisateur = réalisateur\n    \nclass Personne:\n    def __init__(self , nom , année_naissance , lieu_naissance):\n        self.nom = nom\n        self.année_naissance = année_naissance\n        self.lieu_naissance = lieu_naissance\n        \n    def get_nom(self):\n        return self.nom\n    def set_nom(self,nom):\n        self.nom = nom\n        \n    def get_année_naissance(self):\n        return self.année_naissance\n    def set_année_naissance(self,année_naissance):\n        self.année_naissance = année_naissance\n        \n    def get_lieu_naissance(self):\n        return self.lieu_naissance\n    def set_lieu_naissance(self,lieu_naissance):\n        self.lieu_naissance = lieu_naissance\n        \nFilm1 = File(\"Jurassic Park\",\"Spielberg\")\nFilm1.set_titre(\"Jurassic Park\")\nFilm1.set_réalisateur(\"Spielberg\")\n\nActeur1 = Personne(\"Chris Pratt\",\"21 juin 1979\",\"USA\")\nActeur1.set_nom(\"Chris Pratt\")\nActeur1.set_année_naissance(\"21 juin 1979\")\nActeur1.set_lieu_naissance(\"USA\")\n\nRéalisateur1 = Personne(\"Steven Spielberg\",\"18 décembre 1946\",\"USA\")\nRéalisateur1.set_nom(\"Steven Spielberg\")\nRéalisateur1.set_année_naissance(\"18 décembre 1946\")\nRéalisateur1.set_lieu_naissance(\"USA\")\n\nprint(Réalisateur1.get_année_naissance())",
      "metadata": {
        "trusted": true
      },
      "execution_count": 1,
      "outputs": [
        {
          "name": "stdout",
          "output_type": "stream",
          "text": "18 décembre 1946\n"
        }
      ],
      "id": "8c5f9934"
    },
    {
      "cell_type": "markdown",
      "source": "Exercice 2:",
      "metadata": {},
      "id": "260c6300"
    },
    {
      "cell_type": "markdown",
      "source": "Votre réponse:\n\n---------\n<font color='green'>ici.....</font>\n",
      "metadata": {},
      "id": "a8a8886a"
    },
    {
      "cell_type": "code",
      "source": "class Adresse:\n    def __init__(self , rue , ville , code_postal:str):\n        self.rue = rue\n        self.ville = ville\n        self.code_postal = code_postal\n    \n    def get_rue(self):\n        return self.rue\n    def set_rue(self,rue):\n        self.rue = rue\n    \n    def get_ville(self):\n        return self.ville\n    def set_ville(self,ville):\n        self.ville = ville\n    \n    def get_code_postal(self):\n        return self.code_postal\n    def set_code_postal(self,code_postal):\n        self.code_postal = code_postal\n    \nclass Personne(Adresse): #Version héritage\n    def __init__(self , nom , sexe , rue , ville , code_postal:str):\n        super().__init__(rue,ville,code_postal)\n        self.nom = nom\n        self.sexe = sexe\n        self.rue = rue\n        self.ville = ville\n        self.code_postal = code_postal\n        \n    def get_nom(self):\n        return self.nom\n    def set_nom(self,nom):\n        self.nom = nom\n        \n    def get_sexe(self):\n        return self.sexe\n    def set_sexe(self ,sexe):\n        if sexe == \"M\":\n            self.sexe = \"M\"\n        elif sexe == \"F\":\n            self.sexe = \"F\"\n        else :\n            self.sexe = \"\"\n        \n    def get_adresses(self):\n        return self.rue +\" \"+ self.ville +\" \"+ self.code_postal\n    def set_adresses(self , rue,ville,code_postal):\n        self.rue = rue\n        self.ville = ville\n        self.code_postal = str(code_postal)\n        \nclass ListePersonnes:\n    def __init__(self,personnes):\n        self.personnes = personnes\n    \n    def get_personnes(self):\n        return self.personnes\n    def set_personnes(self,personnes):\n        self.personnes = personnes\n    \n    def find_by_nom(self,s:str):\n        if s in self.personnes:\n            return s\n        else :\n            None\n    def exists_code_postal(self,cp:str):\n        return cp in self.personnes\n    def count_personne_ville(self,ville:str):\n        n = 0\n        for i in self.personnes:\n            if i == ville:\n                n = n +1\n        return n\n    def edit_personne_nom(self,oldNom:str,newNom:str):\n        for i in self.personnes:\n            if i==oldNom:\n                i.replace(newNom)\n    def edit_personne_ville(self,nom:str,newVille:str):\n        for i in self.personnes:\n            if i ==nom:\n                i.replace(newVille)        \n        \n\nMoi = Personne(\"Mattéo\",\"M\",\"Jeus\",\"Lille\",\"45678\")\nprint(Moi.get_sexe())\nprint(Moi.get_adresses())\nListe = ListePersonnes([\"Jean\",\"Lille\",\"Jack\",\"Lille\",\"Harry\",\"Marseille\"])\nprint(Liste.find_by_nom(\"Matteo\"))\nprint(Liste.count_personne_ville(\"Lille\"))\n\n",
      "metadata": {
        "trusted": true
      },
      "execution_count": 15,
      "outputs": [
        {
          "name": "stdout",
          "text": "M\nJeus Lille 45678\nNone\n2\n",
          "output_type": "stream"
        }
      ],
      "id": "0c4d13fa"
    },
    {
      "cell_type": "code",
      "source": "class Adresse:\n    def __init__(self , rue , ville , code_postal:str):\n        self.rue = rue\n        self.ville = ville\n        self.code_postal = code_postal\n    \n    def get_rue(self):\n        return self.rue\n    def set_rue(self,rue):\n        self.rue = rue\n    \n    def get_ville(self):\n        return self.ville\n    def set_ville(self,ville):\n        self.ville = ville\n    \n    def get_code_postal(self):\n        return self.code_postal\n    def set_code_postal(self,code_postal):\n        self.code_postal = code_postal\n    \nclass Personne(): #Version avec tableau à la fin (moins pratique à mon avis mais dans l'énoncé c'est un tableau qui est demandé)\n    def __init__(self , nom , sexe , Adresse):\n        self.nom = nom\n        self.sexe = sexe\n        self.adresses = Adresse\n        \n    def get_nom(self):\n        return self.nom\n    def set_nom(self,nom):\n        self.nom = nom\n        \n    def get_sexe(self):\n        return self.sexe\n    def set_sexe(self ,sexe):\n        if sexe == \"M\":\n            self.sexe = \"M\"\n        elif sexe == \"F\":\n            self.sexe = \"F\"\n        else :\n            self.sexe = \"\"\n        \n    def get_adresses(self):\n        return self.adresses\n    def set_adresses(self , adresses):\n        self.adresses = adresses\n\nMoi_adresse = Adresse(\"Jeus\",\"Lille\",\"19230\")\ntab=[]\ntab.append(Moi_adresse.get_rue())\ntab.append(Moi_adresse.get_ville())\ntab.append(Moi_adresse.get_code_postal())\nMoi = Personne(\"Mattéo\",\"M\",tab)\nprint(Moi.get_sexe())\nprint(Moi.get_adresses())\n\n",
      "metadata": {
        "trusted": true
      },
      "execution_count": 7,
      "outputs": [
        {
          "name": "stdout",
          "text": "M\n['Jeus', 'Lille', '19230']\n",
          "output_type": "stream"
        }
      ],
      "id": "9a1d66e2"
    },
    {
      "cell_type": "code",
      "source": "",
      "metadata": {},
      "execution_count": null,
      "outputs": [],
      "id": "0320825d-30c6-488e-83a7-3fe0f76a6ea1"
    }
  ]
}