{
  "cells": [
    {
      "cell_type": "markdown",
      "id": "ed0a8088",
      "metadata": {},
      "source": [
        "---"
      ]
    },
    {
      "cell_type": "markdown",
      "id": "b88a1932",
      "metadata": {},
      "source": [
        " <p align =center> <img src=\"https://github.com/esabahi/NSI_Images/blob/main/NSI-Image.png?raw=true\" width=350>\n",
        "    </p>"
      ]
    },
    {
      "cell_type": "markdown",
      "id": "W84lcE_dziVB",
      "metadata": {
        "id": "W84lcE_dziVB"
      },
      "source": [
        "# TD5.3 - Programmation_Orientée_Objet\n",
        "\n",
        "\n",
        "****************************************\n",
        "\n"
      ]
    },
    {
      "cell_type": "markdown",
      "id": "f083c0e8",
      "metadata": {},
      "source": [
        "Exercice 1:"
      ]
    },
    {
      "cell_type": "markdown",
      "id": "1c703444",
      "metadata": {
        "id": "1c703444"
      },
      "source": [
        "Votre réponse:\n",
        "\n",
        "---------\n",
        "<font color='green'>ici.....</font>\n"
      ]
    },
    {
      "cell_type": "code",
      "execution_count": 1,
      "id": "8c5f9934",
      "metadata": {
        "trusted": true
      },
      "outputs": [
        {
          "name": "stdout",
          "output_type": "stream",
          "text": [
            "18 décembre 1946\n"
          ]
        }
      ],
      "source": [
        "class File:\n",
        "    def __init__(self , titre , réalisateur):\n",
        "        self.titre = titre\n",
        "        self.réalisateur = réalisateur\n",
        "    \n",
        "    def get_titre(self):\n",
        "        return self.titre\n",
        "    def set_titre(self,titre):\n",
        "        self.titre = titre\n",
        "    \n",
        "    def get_réalisateur(self):\n",
        "        return self.réalisateur\n",
        "    def set_réalisateur(self,réalisateur):\n",
        "        self.réalisateur = réalisateur\n",
        "    \n",
        "class Personne:\n",
        "    def __init__(self , nom , année_naissance , lieu_naissance):\n",
        "        self.nom = nom\n",
        "        self.année_naissance = année_naissance\n",
        "        self.lieu_naissance = lieu_naissance\n",
        "        \n",
        "    def get_nom(self):\n",
        "        return self.nom\n",
        "    def set_nom(self,nom):\n",
        "        self.nom = nom\n",
        "        \n",
        "    def get_année_naissance(self):\n",
        "        return self.année_naissance\n",
        "    def set_année_naissance(self,année_naissance):\n",
        "        self.année_naissance = année_naissance\n",
        "        \n",
        "    def get_lieu_naissance(self):\n",
        "        return self.lieu_naissance\n",
        "    def set_lieu_naissance(self,lieu_naissance):\n",
        "        self.lieu_naissance = lieu_naissance\n",
        "        \n",
        "Film1 = File(\"Jurassic Park\",\"Spielberg\")\n",
        "Film1.set_titre(\"Jurassic Park\")\n",
        "Film1.set_réalisateur(\"Spielberg\")\n",
        "\n",
        "Acteur1 = Personne(\"Chris Pratt\",\"21 juin 1979\",\"USA\")\n",
        "Acteur1.set_nom(\"Chris Pratt\")\n",
        "Acteur1.set_année_naissance(\"21 juin 1979\")\n",
        "Acteur1.set_lieu_naissance(\"USA\")\n",
        "\n",
        "Réalisateur1 = Personne(\"Steven Spielberg\",\"18 décembre 1946\",\"USA\")\n",
        "Réalisateur1.set_nom(\"Steven Spielberg\")\n",
        "Réalisateur1.set_année_naissance(\"18 décembre 1946\")\n",
        "Réalisateur1.set_lieu_naissance(\"USA\")\n",
        "\n",
        "print(Réalisateur1.get_année_naissance())"
      ]
    },
    {
      "cell_type": "markdown",
      "id": "260c6300",
      "metadata": {},
      "source": [
        "Exercice 2:"
      ]
    },
    {
      "cell_type": "markdown",
      "id": "a8a8886a",
      "metadata": {},
      "source": [
        "Votre réponse:\n",
        "\n",
        "---------\n",
        "<font color='green'>ici.....</font>\n"
      ]
    },
    {
      "cell_type": "code",
      "execution_count": 2,
      "id": "9a1d66e2",
      "metadata": {
        "trusted": true
      },
      "outputs": [
        {
          "name": "stdout",
          "output_type": "stream",
          "text": [
            "M\n",
            "['Jeus', 'Lille', '45678']\n",
            "None\n",
            "True\n",
            "2\n",
            "Marc Liège\n"
          ]
        }
      ],
      "source": [
        "class Adresse:\n",
        "    def __init__(self , rue , ville , code_postal:str):\n",
        "        self.rue = rue\n",
        "        self.ville = ville\n",
        "        self.code_postal = code_postal\n",
        "    \n",
        "    def get_rue(self):\n",
        "        return self.rue\n",
        "    def set_rue(self,rue):\n",
        "        self.rue = rue\n",
        "    \n",
        "    def get_ville(self):\n",
        "        return self.ville\n",
        "    def set_ville(self,ville):\n",
        "        self.ville = ville\n",
        "    \n",
        "    def get_code_postal(self):\n",
        "        return self.code_postal\n",
        "    def set_code_postal(self,code_postal):\n",
        "        self.code_postal = code_postal\n",
        "    \n",
        "class Personne(Adresse):\n",
        "    def __init__(self , nom , sexe , rue , ville , code_postal:str):\n",
        "        super().__init__(rue,ville,code_postal)\n",
        "        self.nom = nom\n",
        "        self.sexe = sexe\n",
        "        self.rue = rue\n",
        "        self.ville = ville\n",
        "        self.code_postal = code_postal\n",
        "        \n",
        "    def get_nom(self):\n",
        "        return self.nom\n",
        "    def set_nom(self,nom):\n",
        "        self.nom = nom\n",
        "        \n",
        "    def get_sexe(self):\n",
        "        return self.sexe\n",
        "    def set_sexe(self ,sexe):\n",
        "        if sexe == \"M\":\n",
        "            self.sexe = \"M\"\n",
        "        elif sexe == \"F\":\n",
        "            self.sexe = \"F\"\n",
        "        else :\n",
        "            self.sexe = \"\"\n",
        "        \n",
        "    def get_adresses(self):\n",
        "        return [self.rue , self.ville , self.code_postal]\n",
        "    def set_adresses(self , rue,ville,code_postal):\n",
        "        self.rue = rue\n",
        "        self.ville = ville\n",
        "        self.code_postal = str(code_postal)\n",
        "\n",
        "class ListePersonnes:\n",
        "    def __init__(self,personnes):\n",
        "        self.personnes = personnes\n",
        "    \n",
        "    def get_personnes(self):\n",
        "        return self.personnes\n",
        "    def set_personnes(self,personnes):\n",
        "        self.personnes = personnes\n",
        "    \n",
        "    def find_by_nom(self,s:str):\n",
        "        if s in self.personnes:\n",
        "            return s\n",
        "        else :\n",
        "            None\n",
        "\n",
        "    def exists_code_postal(self,cp:str):\n",
        "        for personne in self.personnes:\n",
        "            if personne.code_postal == cp:\n",
        "                return True\n",
        "        return False\n",
        "\n",
        "    def count_personne_ville(self,ville:str):\n",
        "        n = 0\n",
        "        for i in self.personnes:\n",
        "            if i.ville == ville:\n",
        "                n = n + 1\n",
        "        return n \n",
        "    \n",
        "    def edit_personne_nom(self,oldNom:str,newNom:str):\n",
        "        for i in self.personnes:\n",
        "            if i.nom==oldNom:\n",
        "                i.nom = newNom\n",
        "    def edit_personne_ville(self,nom:str,newVille:str):\n",
        "        for i in self.personnes:\n",
        "            if i.nom ==nom:\n",
        "                i.ville = newVille\n",
        "\n",
        "Moi = Personne(\"Mattéo\",\"M\",\"Jeus\",\"Lille\",\"45678\")\n",
        "print(Moi.get_sexe())\n",
        "print(Moi.get_adresses())\n",
        "Jean, Michel, Harry = Personne(\"Jean\", \"M\", \"Jersa\", \"Lille\", \"45000\"), Personne(\"Michel\", \"M\", \"Fruil\", \"Lille\", \"45000\"), Personne(\"Harry\", \"M\", \"Caillas\", \"Marseille\", \"12800\")\n",
        "liste_personnes = [Jean, Michel, Harry]\n",
        "Lis = ListePersonnes(liste_personnes)\n",
        "print(Lis.find_by_nom(\"Jean\"))\n",
        "print(Lis.exists_code_postal(\"45000\"))\n",
        "print(Lis.count_personne_ville(\"Lille\"))\n",
        "Lis.edit_personne_nom(\"Jean\",\"Marc\")\n",
        "Lis.edit_personne_ville(\"Marc\",\"Liège\")\n",
        "print(Jean.get_nom(),Jean.get_ville())\n"
      ]
    }
  ],
  "metadata": {
    "colab": {
      "provenance": []
    },
    "kernelspec": {
      "display_name": "Python 3",
      "language": "python",
      "name": "python3"
    },
    "language_info": {
      "codemirror_mode": {
        "name": "ipython",
        "version": 3
      },
      "file_extension": ".py",
      "mimetype": "text/x-python",
      "name": "python",
      "nbconvert_exporter": "python",
      "pygments_lexer": "ipython3",
      "version": "3.11.1"
    }
  },
  "nbformat": 4,
  "nbformat_minor": 5
}
