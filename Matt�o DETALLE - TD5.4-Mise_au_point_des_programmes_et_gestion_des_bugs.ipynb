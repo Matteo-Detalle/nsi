{
  "metadata": {
    "colab": {
      "provenance": []
    },
    "kernelspec": {
      "name": "python",
      "display_name": "Python (Pyodide)",
      "language": "python"
    },
    "language_info": {
      "codemirror_mode": {
        "name": "ipython",
        "version": 3
      },
      "file_extension": ".py",
      "mimetype": "text/x-python",
      "name": "python",
      "nbconvert_exporter": "python",
      "pygments_lexer": "ipython3",
      "version": "3.7.10"
    }
  },
  "nbformat_minor": 4,
  "nbformat": 4,
  "cells": [
    {
      "cell_type": "markdown",
      "source": " <p align =center> <img src=\"https://github.com/esabahi/NSI_Images/blob/main/NSI-Image.png?raw=true\" width=350>\n    </p>",
      "metadata": {
        "id": "9w6gqUk23GWS"
      }
    },
    {
      "cell_type": "markdown",
      "source": "<h1 style=\"font-size: 30px; text-align: center\">TD5.4-Mise au point des programmes et gestion des bugs\n\n---\n\n# 🟥 Documenter son programme\n\n## 🐍 Exercice 1\n\n**Q1** : Donnez un meilleur nom et une chaîne de documentation à la fonction suivante.\n\n```python\ndef f(a, b):\n    return a + b\n```",
      "metadata": {
        "id": "GlWSTcNftLXO"
      }
    },
    {
      "cell_type": "code",
      "source": "# à vous de jouer !\n\ndef add(a, b):\n    \"\"\"\n    fonction d'addition de 2 valeurs (a et b)\n    \"\"\"\n    return a + b",
      "metadata": {
        "id": "DVHmN_5CtLXS",
        "trusted": true
      },
      "execution_count": null,
      "outputs": []
    },
    {
      "cell_type": "markdown",
      "source": "**Q2** : Utilisez la fonction `help` pour accéder à la chaîne de documentation de cette fonction.",
      "metadata": {
        "id": "QkCK4yBztLXU"
      }
    },
    {
      "cell_type": "code",
      "source": "# à vous de jouer !\ndef add(a, b):\n    \"\"\"\n    fonction d'addition de 2 valeurs (a et b)\n    \"\"\"\n    return a + b\n    \nhelp(add)",
      "metadata": {
        "id": "xbFb6lyBtLXU",
        "trusted": true
      },
      "execution_count": null,
      "outputs": []
    },
    {
      "cell_type": "markdown",
      "source": "## 🐍 Exercice 2\n\n**Q1** : Donnez un meilleur nom et une chaîne de documentation à la fonction suivante, le paramètre `t` étant un tableau.\n\n```python\ndef mystere(t):\n    s = 0\n    for i in range(len(t)):\n        s = s + t[i]\n    return s / n\n```",
      "metadata": {
        "id": "nx5ge4bAtLXV"
      }
    },
    {
      "cell_type": "code",
      "source": "# à vous de jouer !\n\ndef calcul_moyenne(t):\n    \"\"\"\n    fonction qui calcul la moyenne des valeurs du tableau t\n    \"\"\"\n    n = len(t)\n    s = 0\n    for i in range(len(t)):\n        s = s + t[i]\n    return s / n",
      "metadata": {
        "id": "il9m1YvEtLXV"
      },
      "execution_count": null,
      "outputs": []
    },
    {
      "cell_type": "markdown",
      "source": "**Q2** : Utilisez la fonction `help` pour accéder à la chaîne de documentation de cette fonction.",
      "metadata": {
        "id": "G91FljqJtLXV"
      }
    },
    {
      "cell_type": "code",
      "source": "# à vous de jouer !\ndef calcul_moyenne(t):\n    \"\"\"\n    fonction qui calcul la moyenne des valeurs du tableau t\n    \"\"\"\n    n = len(t)\n    s = 0\n    for i in range(len(t)):\n        s = s + t[i]\n    return s / n\n\nhelp(calcul_moyenne)",
      "metadata": {
        "id": "pjFeagOatLXV",
        "trusted": true
      },
      "execution_count": null,
      "outputs": []
    },
    {
      "cell_type": "markdown",
      "source": "# 🟥 Programmation défensive\n\n## 🐍 Exercice 3\n\nOn considère la fonction `indice_maxi_tab(T)` suivante. À l'aide de la construction `assert`, proposez un test vérifiant si la précondition sur le tableau `T` est validée (*on ne cherchera pas à écrire la fonction*).",
      "metadata": {
        "id": "KdSb9o6wtLXV"
      }
    },
    {
      "cell_type": "code",
      "source": "def indice_maxi_tab(T):\n    \"\"\"\n    Renvoie l'indice de la première occurence de la valeur\n    maximale du tableau T. T est supposé non vide.\n    \"\"\"\n    assert len(T)>0 , \"aucune valeur présente dans le tableau\"\n    assert type(T) = list , \"que les nombres sont autorisés\"\n    \n    # TEST A ECRIRE ICI\n    \n    \n    \n",
      "metadata": {
        "id": "Klk3T4SJtLXW"
      },
      "execution_count": null,
      "outputs": []
    },
    {
      "cell_type": "markdown",
      "source": "## 🐍 Exercice 4\n\nOn considère la fonction `quotient(a, b)` suivante. À l'aide de la construction `assert`, proposez un test vérifiant si les préconditions sont validées.\n",
      "metadata": {
        "id": "NsHDXOfbtLXW"
      }
    },
    {
      "cell_type": "code",
      "source": "def quotient(a, b):\n    '''\n    Renvoie la valeur du quotient de a par b, b étant non nul.\n    '''\n    assert type(a,b)= int , \"que les nombres entiers sont autorisés\"\n    \n    # TEST A ECRIRE ICI\n",
      "metadata": {
        "id": "NG5OBDXDtLXW"
      },
      "execution_count": null,
      "outputs": []
    },
    {
      "cell_type": "markdown",
      "source": "# 🟥 Tester ses programmes\n\n## 🐍 Exercice 5\n\n\n**Q1** : En utilisant `assert`, donnez un jeu de tests de qualité pour la fonction `multiplication` suivante.\n\n**Q2** : Vérifiez ensuite que les tests passent avec succès.",
      "metadata": {
        "id": "th-Kejq1tLXX"
      }
    },
    {
      "cell_type": "code",
      "source": "def multiplication(a, b):\n    '''\n    Renvoie le produit de a par b,\n    où a et b sont deux nombres quelconques.\n    '''\n    return a * b\n\n# jeu de tests à écrire ici\n\nassert multiplication(2*5)==10\nassert multiplication(2*0.5) == 1",
      "metadata": {
        "id": "PFxJcBNotLXX"
      },
      "execution_count": null,
      "outputs": []
    },
    {
      "cell_type": "markdown",
      "source": "## 🐍 Exercice 6\n\n\n**Q1** : En utilisant `assert`, donnez un jeu de tests de qualité pour la fonction `somme` suivante.\n\n**Q2** : Vérifiez ensuite que les tests passent avec succès.\n\n```python\ndef somme(t):\n    '''\n    Renvoie la somme des éléments du tableau t,\n    t étant un tableau de nombres\n    '''\n    s = 0\n    for i in range(len(t)):\n        s = s + t[i]\n    return s\n```",
      "metadata": {
        "id": "sXwgk7MBtLXX"
      }
    },
    {
      "cell_type": "markdown",
      "source": "",
      "metadata": {
        "id": "40yxOiF-3B8X"
      }
    },
    {
      "cell_type": "code",
      "source": "# à vous de jouer !\n\ndef somme(t):\n    '''\n    Renvoie la somme des éléments du tableau t,\n    t étant un tableau de nombres\n    '''\n    s = 0\n    for i in range(len(t)):\n        s = s + t[i]\n    return s\n\nassert somme([10,10,5,2]) == 27\nassert somme([-1,10]) == 9\nassert somme([0.5,10]) == 10.5\n",
      "metadata": {
        "id": "aKd0ZiZ-tLXX"
      },
      "execution_count": null,
      "outputs": []
    },
    {
      "cell_type": "markdown",
      "source": "## 🐍 Exercice 7\n\nOn cherche à écrire une fonction `est_croissant(t)` qui renvoie `True` si le tableau `t` est trié dans l'ordre croissant et `False` sinon.\n\n**Q1** : Complétez la fonction `tests_est_croissante` avec un jeu de tests de qualité pour la fonction `est_croissante` (*on ne cherchera pas à écrire le code de la fonction*).\n\n> <span style=\"font-size:1.5em\">📣</span> Ici, on écrit tous les tests dans une fonction, qu'il suffira d'appeler par la suite pour lancer les tests",
      "metadata": {
        "id": "9IAWq4P4tLXX"
      }
    },
    {
      "cell_type": "code",
      "source": "# à vous de jouer !\n\ndef tests_est_croissante():\n    \"\"\"\n    Fonction lançant des tests pour la fonction est_croissante\n    \"\"\"\n    # jeu de tests à écrire ici\n    \nassert tests_est_croissante([1,4,6]) == True\nassert tests_est_croissante([-1,1,4,6]) == True\nassert tests_est_croissante([0.5,1,4,6]) == True\nassert tests_est_croissante([2,1,4,6]) == False\n",
      "metadata": {
        "id": "Zq6KPO6XtLXY"
      },
      "execution_count": null,
      "outputs": []
    },
    {
      "cell_type": "markdown",
      "source": "**Q2** : Un elève propose le code suivant pour la fonction `est_croissant(t)` de l'exercice précédent. Faites passer vos tests à cette fonction.\n",
      "metadata": {
        "id": "pWD0ioIvtLXY"
      }
    },
    {
      "cell_type": "code",
      "source": "def est_croissant(t):\n    \"\"\"\n    Renvoie True si le tableau t est trié dans l'ordre croissant,\n    et False sinon.\n    \"\"\"\n    for i in range(len(t)):\n        if t[i+1] > t[i]:\n            return False\n    return True\n\n",
      "metadata": {
        "id": "sIj1-GFktLXY"
      },
      "execution_count": null,
      "outputs": []
    },
    {
      "cell_type": "markdown",
      "source": "**Q3** : Trouvez l'erreur, soit en affichant l'état de certaines variables à des points stratégiques, soit en utilisant l'outil [Python tutor](https://pythontutor.com/python-debugger.html#mode=edit). Quelle est cette erreur ?\n\n",
      "metadata": {
        "id": "kmm8ClwPtLXY"
      }
    },
    {
      "cell_type": "raw",
      "source": "Réponse : il dit \"si le 2 eme terme est plus grand que le 1er : renvoie False\" sauf que c'est censé etre croissant",
      "metadata": {
        "id": "eIv1-XQdtLXY"
      }
    },
    {
      "cell_type": "markdown",
      "source": "**Q4** : Corrigez alors le code de la fonction et vérifiez que tous les tests sont validés.",
      "metadata": {
        "id": "-L62LB19tLXY"
      }
    },
    {
      "cell_type": "code",
      "source": "# à vous de jouer !\ndef est_croissant(t):\n    \"\"\"\n    Renvoie True si le tableau t est trié dans l'ordre croissant,\n    et False sinon.\n    \"\"\"\n    for i in range(len(t)-1):\n        if t[i+1] < t[i]:\n            return False\n    return True\n\nassert est_croissant([1,4,6]) == True\nassert est_croissant([-1,1,4,6]) == True\nassert est_croissant([0.5,1,4,6]) == True\nassert est_croissant([2,1,4,6]) == False",
      "metadata": {
        "id": "xEmJJbHBtLXZ"
      },
      "execution_count": null,
      "outputs": []
    },
    {
      "cell_type": "markdown",
      "source": "## 🐍 Exercice 8\n\nOn veut écrire une fonction `annee_naissance(prenom, tab)` qui renvoie l'année de naissance de la personne ayant pour prénom `prenom` dans le tableau `tab`, dont les éléments sont des tuples de la forme (prénom, année de naissance, ville de naissance). Si `prenom` n'apparaît pas dans `tab` alors la fonction doit renvoyer `None`.\n\nExemple :\n\n```python\n>>> tab = [('Lucas', 2002, 'Marseille'), ('Élodie', 2003, 'Angers'), ('Marie', 2001, 'Angers'), ('Jade', 2007, 'New York')]\n>>> annee_naissance('Marie', tab)\n2001\n```",
      "metadata": {
        "id": "O8mpgLsYtLXZ"
      }
    },
    {
      "cell_type": "markdown",
      "source": "**Q1** : Proposez une fonction `test_annee_naissance` qui permettra de tester la fonction `annee_naissance` grâce à un jeu de tests bien choisi.",
      "metadata": {
        "id": "qfK5fzOVtLXZ"
      }
    },
    {
      "cell_type": "code",
      "source": "# à vous de jouer !\n\ntab = [('Lucas', 2002, 'Marseille'), ('Élodie', 2003, 'Angers'), ('Marie', 2001, 'Angers'), ('Jade', 2007, 'New York')]\n\ndef test_annee_naisse():\n    assert annee_naissance('Lucas',tab) == 2002\n    assert annee_naissance('Jean',tab) == False\n",
      "metadata": {
        "id": "aLZy5wPstLXZ"
      },
      "execution_count": null,
      "outputs": []
    },
    {
      "cell_type": "markdown",
      "source": "**Q2** : Écrivez la fonction `annee_naissance(prenom, tab)` et vérifiez qu'elle passe tous les tests.",
      "metadata": {
        "id": "yXwIQzz8tLXa"
      }
    },
    {
      "cell_type": "code",
      "source": "# à vous de jouer !\n\ntab = [('Lucas', 2002, 'Marseille'), ('Élodie', 2003, 'Angers'), ('Marie', 2001, 'Angers'), ('Jade', 2007, 'New York')]\n\ndef annee_naissance(nom,tab):\n    \"\"\"\n    renvoie la date de naissance à partir du nom venant d'un tableau\n    \"\"\"\n    for i in tab:\n        if i[0] == nom:\n            return i[1]\n        else:\n            return False\ndef test_annee_naissance():\n    assert annee_naissance('Lucas',tab) == 2002\n    assert annee_naissance('Jean',tab) == False\n    \nprint(annee_naissance('Lucas',tab))\ntest_annee_naissance()",
      "metadata": {
        "id": "Vfh9M-uHtLXa"
      },
      "execution_count": null,
      "outputs": []
    },
    {
      "cell_type": "markdown",
      "source": "## 🐍 Exercice 9\n\nOn veut écrire une fonction `meilleure_note` qui prend en paramètre un dictionnaire `resultats` dans lequel les clés sont des prénoms d'élèves et leurs valeurs associées sont des notes à un devoir, et qui renvoie la meilleure note à ce devoir.\n\nExemple :\n\n```python\n>>> meilleure_note({'Marie': 15, 'Laurent': 12, 'Julie': 18, 'Antoine': 17})\n18\n```\n\n**Q1** : Écrivez la chaîne de documentation de cette fonction `meilleure_note` pour y intégrer directement les tests.",
      "metadata": {
        "id": "fFzA0QTstLXa"
      }
    },
    {
      "cell_type": "code",
      "source": "# à vous de jouer !\n\ndef meilleure_note(dic):\n    \"\"\"\n    renvoie la meilleure note présente dans un dictionnaire de chiffres ayant pour clés leurs noms \n    \"\"\"\n",
      "metadata": {
        "id": "qXHTCkxUtLXa"
      },
      "execution_count": null,
      "outputs": []
    },
    {
      "cell_type": "markdown",
      "source": "**Q2** : Écrivez le code de cette fonction.\n\n**Q3** : Utilisez le module `doctest` pour vérifier les tests intégrés à la chaîne de documentation. Modifiez la fonction si les tests échouent.",
      "metadata": {
        "id": "OcebVU6dtLXa"
      }
    },
    {
      "cell_type": "code",
      "source": "# à vous de jouer !\ndic ={'Marie': 15, 'Laurent': 12, 'Julie': 18, 'Antoine': 17}\n\ndef meilleure_note(dic):\n    \"\"\"\n    renvoie la meilleure note présente dans un dictionnaire de chiffres ayant pour clés leurs noms \n    \"\"\"\n    for i in dic.values():\n        a = i\n    \n    for i in dic.values():\n        if i>a:\n            a = i\n    return a\n\nprint(meilleure_note(dic))\n    \n\n",
      "metadata": {
        "id": "1toYlgoAtLXb"
      },
      "execution_count": null,
      "outputs": []
    },
    {
      "cell_type": "markdown",
      "source": "---\n\n**Références :**\n- Documents ressources du DIU EIL Nantes, C. DECLERCQ.\n- Numérique et Sciences Informatiques, 1re, T. BALABONSKI, S. CONCHON, J.-C. FILLIATRE, K. NGUYEN, éditions ELLIPSES : [Site du livre](https://www.nsi-premiere.fr/)\n-Germain BECKER & Sébastien POINT, Lycée Mounier, ANGERS",
      "metadata": {
        "id": "5O7H9-ektLXb"
      }
    },
    {
      "cell_type": "markdown",
      "source": "| <span style='color:Blue'> L.H & E.S |  | |   | |     |<span style='color:Blue'> NSI Terminale | |   | ||<span style='color:Blue'> Lycée Ozanam (Lille)|\n| --- | --- |--- |--- |--- |--- | --- | --- |--- |--- | --- | --- |",
      "metadata": {
        "id": "3AMQDjOf4CpJ"
      }
    }
  ]
}