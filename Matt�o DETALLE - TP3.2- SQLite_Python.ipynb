{
  "cells": [
    {
      "cell_type": "markdown",
      "metadata": {
        "id": "-pdXRbesj0Da"
      },
      "source": [
        "#**SQLite?**\n",
        "\n",
        "[SQLite](https://fr.wikipedia.org/wiki/SQLite) est une bibliothèque écrite en langage C qui propose **un moteur de base de données relationnelle accessible par le langage SQL**.\n",
        "\n",
        "Nous avons déjà détaillé dans le cours de ce thème le modèle relationnel.\n",
        "\n",
        "Contrairement aux serveurs de bases de données traditionnels, comme MySQL (utilisé lors du TD SQL), sa particularité est de ne pas reproduire le schéma habituel client-serveur mais d'être directement intégrée aux programmes.\n",
        "\n",
        "L'intégralité de la base de données (déclarations, tables, index et données) est stockée dans un fichier indépendant de la plateforme.\n",
        "\n",
        "Dans ce TD, nous allons écrire des commandes en SQL avec SQLite et via Python."
      ]
    },
    {
      "cell_type": "markdown",
      "metadata": {
        "id": "75O_y0vYj0Dv"
      },
      "source": [
        "## Créer une nouvelle Base de données\n",
        "\n",
        "A la différence des tables qu'on utilise habituellement, la base de données n'est pas visible directement en ouvrant Excel ou un éditeur de texte via phpMyadmin.\n",
        "\n",
        "Pour avoir une vue de ce que contient la base de données, il est nécessaire d'avoir un autre type de logiciel comme SQLLiteSpy."
      ]
    },
    {
      "cell_type": "code",
      "execution_count": 19,
      "metadata": {
        "id": "ONYcV8dlj0Dv",
        "trusted": true
      },
      "outputs": [],
      "source": [
        "import sqlite3\n",
        "# Se connecter à une base de données SQL vide\n",
        "# SQLite stocke la BDD dans un simple fichier\n",
        "filepath = \"./jeu.db\"\n",
        "open(filepath, 'w').close() #crée un fichier vide\n",
        "conn = sqlite3.connect(filepath)"
      ]
    },
    {
      "cell_type": "markdown",
      "metadata": {
        "id": "te2oDfp5j0Dx"
      },
      "source": [
        "\n",
        "**La méthode [cursor](https://docs.python.org/3.5/library/sqlite3.html#sqlite3.Connection.cursor)** :\n",
        "\n",
        "Il s'agit d'une sorte de tampon mémoire intermédiaire, destiné à mémoriser temporairement les données en cours de traitement, ainsi que les opérations que vous effectuez sur elles, avant leur transfert définitif dans la base de données.\n",
        "\n",
        "Tant que la  méthode [commit](https://docs.python.org/3.5/library/sqlite3.html#sqlite3.Connection.commit) n'aura pas été appelée, aucun ordre ne sera appliqué à la base de données."
      ]
    },
    {
      "cell_type": "markdown",
      "metadata": {
        "id": "ZASmSbnij0Dy"
      },
      "source": [
        "La connection à la base de données BDD est établie, créer une table auteur avec la requête SQL suivante:\n"
      ]
    },
    {
      "cell_type": "code",
      "execution_count": 20,
      "metadata": {
        "id": "kl9C_TomVj3k",
        "trusted": true
      },
      "outputs": [],
      "source": [
        "# Déclaration du curseur c lié à la connection conn\n",
        "c = conn.cursor()\n",
        "\n",
        "# Créer une tables\n",
        "c.execute('''CREATE TABLE IF NOT EXISTS stocks\n",
        "             (id INTEGER PRIMARY KEY, date text, trans text, symbol text, qty real, price real)''')\n",
        "\n",
        "# Insérer une ligne de données\n",
        "c.execute(\"INSERT INTO stocks (date, trans, symbol, qty, price) VALUES ('2006-01-05','BUY','RHAT',100,35.14)\")\n",
        "\n",
        "# Sauvegarde des changements\n",
        "conn.commit()\n",
        "\n",
        "\n",
        "# Il est possible de cloturer la connection une fois les changements savegardés\n",
        "\n",
        "#conn.close()\n"
      ]
    },
    {
      "cell_type": "markdown",
      "metadata": {
        "id": "e1Gdx11Aj0D0"
      },
      "source": [
        "###**Afficher le contenue d'une table**###\n",
        "\n",
        "Pour voir ce qu'il y a dans la table, on utilise un premier Select où on demande à voir toute la table"
      ]
    },
    {
      "cell_type": "code",
      "execution_count": 21,
      "metadata": {
        "colab": {
          "base_uri": "https://localhost:8080/"
        },
        "executionInfo": {
          "elapsed": 712,
          "status": "ok",
          "timestamp": 1612723575979,
          "user": {
            "displayName": "Emna SABAHI",
            "photoUrl": "",
            "userId": "02843165050310486081"
          },
          "user_tz": -60
        },
        "id": "QcZzR0lzj0D1",
        "outputId": "e94c9f82-90f5-4c4c-d82f-f4c88ac5f301",
        "trusted": true
      },
      "outputs": [
        {
          "name": "stdout",
          "output_type": "stream",
          "text": [
            "(1, '2006-01-05', 'BUY', 'RHAT', 100.0, 35.14)\n"
          ]
        }
      ],
      "source": [
        "\n",
        "for row in c.execute('SELECT * FROM stocks '):\n",
        "        print(row)"
      ]
    },
    {
      "cell_type": "markdown",
      "metadata": {
        "id": "amL1Vn1ro0qh"
      },
      "source": [
        "### **Insérer plusieurs données à la fois**"
      ]
    },
    {
      "cell_type": "code",
      "execution_count": 22,
      "metadata": {
        "colab": {
          "base_uri": "https://localhost:8080/"
        },
        "executionInfo": {
          "elapsed": 591,
          "status": "ok",
          "timestamp": 1612725889591,
          "user": {
            "displayName": "Emna SABAHI",
            "photoUrl": "",
            "userId": "02843165050310486081"
          },
          "user_tz": -60
        },
        "id": "Oh8PvY78pDJu",
        "outputId": "6f1e9637-963e-414d-8b12-c2ae34274dbc",
        "trusted": true
      },
      "outputs": [
        {
          "name": "stdout",
          "output_type": "stream",
          "text": [
            "[(1, '2006-01-05', 'BUY', 'RHAT', 100.0, 35.14), (2, '2006-03-28', 'BUY', 'IBM', 1000.0, 45.0), (3, '2006-04-05', 'BUY', 'MSFT', 1000.0, 72.0), (4, '2006-04-06', 'SELL', 'IBM', 500.0, 53.0)]\n"
          ]
        }
      ],
      "source": [
        "# Insérer plusieurs lignes\n",
        "purchases = [('2006-03-28', 'BUY', 'IBM', 1000, 45.00),\n",
        "             ('2006-04-05', 'BUY', 'MSFT', 1000, 72.00),\n",
        "             ('2006-04-06', 'SELL', 'IBM', 500, 53.00),\n",
        "            ]\n",
        "c.executemany('INSERT INTO stocks (date, trans, symbol, qty, price) VALUES (?,?,?,?,?)', purchases)\n",
        "#t = ('IBM',)\n",
        "#c.execute('SELECT * FROM stocks WHERE symbol=?', t)\n",
        "c.execute('SELECT * FROM stocks')\n",
        "print(c.fetchall()) # ou print(c.fetone()) pour afficher une ligne\n"
      ]
    },
    {
      "cell_type": "markdown",
      "metadata": {
        "id": "G8tr_b9wj0D1"
      },
      "source": [
        "### Pandas\n",
        "Nous pouvons utiliser la fonction read_sql_query (de la libraire Pandas) pour lire les résultats d’une requête SQL directement dans un DataFrame. Le code ci-dessous va exécuter la même requête que nous venons de faire, mais il retournera un DataFrame. Il a plusieurs avantages par rapport à la requête que nous avons faite ci-dessus:\n",
        "\n",
        "Cela ne nous oblige pas à créer un objet Cursor ou à appeler fetchall à la fin.\n",
        "Il lit automatiquement les noms des en-têtes de la table.\n",
        "Il crée un DataFrame, afin que nous puissions rapidement explorer les données."
      ]
    },
    {
      "cell_type": "code",
      "execution_count": 23,
      "metadata": {
        "colab": {
          "base_uri": "https://localhost:8080/"
        },
        "executionInfo": {
          "elapsed": 560,
          "status": "ok",
          "timestamp": 1612726108484,
          "user": {
            "displayName": "Emna SABAHI",
            "photoUrl": "",
            "userId": "02843165050310486081"
          },
          "user_tz": -60
        },
        "id": "efed5W55j0D2",
        "outputId": "4d688964-18ec-4a74-a041-670c4490e5fe"
      },
      "outputs": [
        {
          "name": "stdout",
          "output_type": "stream",
          "text": [
            "En utilisant la méthode read_sql_query \n",
            "    id        date trans symbol     qty  price\n",
            "0   1  2006-01-05   BUY   RHAT   100.0  35.14\n",
            "1   2  2006-03-28   BUY    IBM  1000.0  45.00\n",
            "2   3  2006-04-05   BUY   MSFT  1000.0  72.00\n",
            "3   4  2006-04-06  SELL    IBM   500.0  53.00 \n",
            "\n",
            "En passant par une DataFrame \n",
            "          date trans symbol     qty  price\n",
            "0  2006-01-05   BUY   RHAT   100.0  35.14\n",
            "1  2006-03-28   BUY    IBM  1000.0  45.00\n",
            "2  2006-04-05   BUY   MSFT  1000.0  72.00\n",
            "3  2006-04-06  SELL    IBM   500.0  53.00 \n",
            "\n",
            "         date trans symbol     qty  price\n",
            "0  2006-01-05   BUY   RHAT   100.0  35.14\n",
            "1  2006-03-28   BUY    IBM  1000.0  45.00\n"
          ]
        }
      ],
      "source": [
        "import pandas as pd\n",
        "\n",
        "# méthode SQL Query\n",
        "df1 = pd.read_sql_query('SELECT * FROM stocks', conn )\n",
        "print(\"En utilisant la méthode read_sql_query \\n\", df1.head(), \"\\n\")\n",
        "\n",
        "#méthode DataFrame en utilisant la liste issue de .fetchall()\n",
        "df2 = pd.DataFrame (df1, columns=[ 'date', 'trans', 'symbol', 'qty', 'price'])\n",
        "print(\"En passant par une DataFrame \\n\", df2.head(),\"\\n\")\n",
        "\n",
        "# affichage de deux lignes sur la table\n",
        "print(df2.head(2))"
      ]
    },
    {
      "cell_type": "markdown",
      "metadata": {
        "id": "pzxQbGiNj0D5"
      },
      "source": [
        "#**Activité 1**\n",
        "En SQL, on utilise WHERE pour filtrer les tables selon certaines conditions.\n",
        "\n",
        "\n",
        "1.   **Afficher** alors la liste des stocks ayant un \"price\" supérieur ou égale à 50."
      ]
    },
    {
      "cell_type": "code",
      "execution_count": 24,
      "metadata": {
        "id": "XcuyN5eIBA9X",
        "trusted": true
      },
      "outputs": [
        {
          "name": "stdout",
          "output_type": "stream",
          "text": [
            "[(3, '2006-04-05', 'BUY', 'MSFT', 1000.0, 72.0), (4, '2006-04-06', 'SELL', 'IBM', 500.0, 53.0)]\n"
          ]
        }
      ],
      "source": [
        "# Saisir votre réponse ici\n",
        "c.execute('SELECT * FROM stocks WHERE price>=50')\n",
        "print(c.fetchall())"
      ]
    },
    {
      "cell_type": "markdown",
      "metadata": {
        "id": "eNDDWf6Oj0D6"
      },
      "source": [
        "Avec Pandas, on peut utiliser plusieurs manières de faire :\n",
        "    - avec un booléen\n",
        "    - en utilisant la méthode 'query'"
      ]
    },
    {
      "cell_type": "code",
      "execution_count": 25,
      "metadata": {
        "colab": {
          "base_uri": "https://localhost:8080/",
          "height": 166
        },
        "executionInfo": {
          "elapsed": 633,
          "status": "ok",
          "timestamp": 1612726841098,
          "user": {
            "displayName": "Emna SABAHI",
            "photoUrl": "",
            "userId": "02843165050310486081"
          },
          "user_tz": -60
        },
        "id": "EKGudGmPj0D7",
        "outputId": "2dff906c-4c58-468a-950b-141a568c1a1e"
      },
      "outputs": [
        {
          "data": {
            "text/html": [
              "<div>\n",
              "<style scoped>\n",
              "    .dataframe tbody tr th:only-of-type {\n",
              "        vertical-align: middle;\n",
              "    }\n",
              "\n",
              "    .dataframe tbody tr th {\n",
              "        vertical-align: top;\n",
              "    }\n",
              "\n",
              "    .dataframe thead th {\n",
              "        text-align: right;\n",
              "    }\n",
              "</style>\n",
              "<table border=\"1\" class=\"dataframe\">\n",
              "  <thead>\n",
              "    <tr style=\"text-align: right;\">\n",
              "      <th></th>\n",
              "      <th>date</th>\n",
              "      <th>trans</th>\n",
              "      <th>symbol</th>\n",
              "      <th>qty</th>\n",
              "      <th>price</th>\n",
              "    </tr>\n",
              "  </thead>\n",
              "  <tbody>\n",
              "    <tr>\n",
              "      <th>1</th>\n",
              "      <td>2006-03-28</td>\n",
              "      <td>BUY</td>\n",
              "      <td>IBM</td>\n",
              "      <td>1000.0</td>\n",
              "      <td>45.0</td>\n",
              "    </tr>\n",
              "    <tr>\n",
              "      <th>3</th>\n",
              "      <td>2006-04-06</td>\n",
              "      <td>SELL</td>\n",
              "      <td>IBM</td>\n",
              "      <td>500.0</td>\n",
              "      <td>53.0</td>\n",
              "    </tr>\n",
              "  </tbody>\n",
              "</table>\n",
              "</div>"
            ],
            "text/plain": [
              "         date trans symbol     qty  price\n",
              "1  2006-03-28   BUY    IBM  1000.0   45.0\n",
              "3  2006-04-06  SELL    IBM   500.0   53.0"
            ]
          },
          "execution_count": 25,
          "metadata": {},
          "output_type": "execute_result"
        }
      ],
      "source": [
        "df2[df2['symbol'] == \"IBM\"]"
      ]
    },
    {
      "cell_type": "code",
      "execution_count": 26,
      "metadata": {
        "colab": {
          "base_uri": "https://localhost:8080/",
          "height": 166
        },
        "executionInfo": {
          "elapsed": 570,
          "status": "ok",
          "timestamp": 1612726844467,
          "user": {
            "displayName": "Emna SABAHI",
            "photoUrl": "",
            "userId": "02843165050310486081"
          },
          "user_tz": -60
        },
        "id": "18V1OJEDj0D7",
        "outputId": "cf1df143-3fa3-48ba-ff51-9513fa251b75"
      },
      "outputs": [
        {
          "data": {
            "text/html": [
              "<div>\n",
              "<style scoped>\n",
              "    .dataframe tbody tr th:only-of-type {\n",
              "        vertical-align: middle;\n",
              "    }\n",
              "\n",
              "    .dataframe tbody tr th {\n",
              "        vertical-align: top;\n",
              "    }\n",
              "\n",
              "    .dataframe thead th {\n",
              "        text-align: right;\n",
              "    }\n",
              "</style>\n",
              "<table border=\"1\" class=\"dataframe\">\n",
              "  <thead>\n",
              "    <tr style=\"text-align: right;\">\n",
              "      <th></th>\n",
              "      <th>date</th>\n",
              "      <th>trans</th>\n",
              "      <th>symbol</th>\n",
              "      <th>qty</th>\n",
              "      <th>price</th>\n",
              "    </tr>\n",
              "  </thead>\n",
              "  <tbody>\n",
              "    <tr>\n",
              "      <th>1</th>\n",
              "      <td>2006-03-28</td>\n",
              "      <td>BUY</td>\n",
              "      <td>IBM</td>\n",
              "      <td>1000.0</td>\n",
              "      <td>45.0</td>\n",
              "    </tr>\n",
              "    <tr>\n",
              "      <th>3</th>\n",
              "      <td>2006-04-06</td>\n",
              "      <td>SELL</td>\n",
              "      <td>IBM</td>\n",
              "      <td>500.0</td>\n",
              "      <td>53.0</td>\n",
              "    </tr>\n",
              "  </tbody>\n",
              "</table>\n",
              "</div>"
            ],
            "text/plain": [
              "         date trans symbol     qty  price\n",
              "1  2006-03-28   BUY    IBM  1000.0   45.0\n",
              "3  2006-04-06  SELL    IBM   500.0   53.0"
            ]
          },
          "execution_count": 26,
          "metadata": {},
          "output_type": "execute_result"
        }
      ],
      "source": [
        "df2.query('symbol == \"IBM\"')"
      ]
    },
    {
      "cell_type": "markdown",
      "metadata": {
        "id": "16txdgIwj0D9"
      },
      "source": [
        "Pour mettre plusieurs conditions, on utilise :\n",
        "- & en Python, AND en SQL\n",
        "- | en python, OR en SQL\n",
        "\n",
        "2. **Afficher** alors en utilisant les deux méthodes les stocks ayant un prix supérieur à 50 et un symbol ='IBM'"
      ]
    },
    {
      "cell_type": "code",
      "execution_count": 27,
      "metadata": {
        "id": "jttTn8uMA2RY"
      },
      "outputs": [
        {
          "name": "stdout",
          "output_type": "stream",
          "text": [
            "[(4, '2006-04-06', 'SELL', 'IBM', 500.0, 53.0)]\n"
          ]
        }
      ],
      "source": [
        "# Saisir votre réponse ici\n",
        "c.execute('SELECT * FROM stocks WHERE price>=50 AND symbol= \"IBM\"')\n",
        "print(c.fetchall())"
      ]
    },
    {
      "cell_type": "markdown",
      "metadata": {
        "id": "PLSVV7yvj0D_"
      },
      "source": [
        "# **Activité 2**\n",
        "\n",
        "En pandas, l'opération GROUP BY de SQL s'effectue avec une méthode similaire : [groupby](http://pandas.pydata.org/pandas-docs/stable/generated/pandas.DataFrame.groupby.html)\n",
        "\n",
        "Elle sert à regrouper des observations en groupes selon les modalités de certaines variables en appliquant une fonction d'aggrégation sur d'autres variables."
      ]
    },
    {
      "cell_type": "code",
      "execution_count": 28,
      "metadata": {
        "id": "hDh_xrHKj0D_"
      },
      "outputs": [
        {
          "name": "stdout",
          "output_type": "stream",
          "text": [
            "[('IBM', 2), ('MSFT', 3), ('RHAT', 1)]\n"
          ]
        }
      ],
      "source": [
        "# Afficher alors avec une requête SQL\n",
        "# chaque \"symbol\" associé à son occurance dans la table comme suit: [('IBM', 4), ('MSFT', 2), ('RHAT', 1)]\n",
        "\n",
        "c.execute('SELECT symbol, id FROM stocks GROUP BY \"symbol\"')\n",
        "print(c.fetchall())"
      ]
    },
    {
      "cell_type": "markdown",
      "metadata": {
        "id": "eun1kljsj0EA"
      },
      "source": [
        "Attention, en pandas, la fonction [count](http://pandas.pydata.org/pandas-docs/stable/generated/pandas.core.groupby.DataFrameGroupBy.count.html?highlight=count#pandas.core.groupby.DataFrameGroupBy.count) ne fait pas la même chose qu'en SQL. [count](http://pandas.pydata.org/pandas-docs/stable/generated/pandas.core.groupby.DataFrameGroupBy.count.html?highlight=count#pandas.core.groupby.DataFrameGroupBy.count) s'applique à toutes les colonnes et compte toutes les observations non nulles."
      ]
    },
    {
      "cell_type": "code",
      "execution_count": 29,
      "metadata": {
        "colab": {
          "base_uri": "https://localhost:8080/",
          "height": 166
        },
        "executionInfo": {
          "elapsed": 537,
          "status": "ok",
          "timestamp": 1612727580956,
          "user": {
            "displayName": "Emna SABAHI",
            "photoUrl": "",
            "userId": "02843165050310486081"
          },
          "user_tz": -60
        },
        "id": "uvY-1qCgj0EB",
        "outputId": "a6b24bd3-40df-4d03-dd4d-14158bb99b3f"
      },
      "outputs": [
        {
          "data": {
            "text/html": [
              "<div>\n",
              "<style scoped>\n",
              "    .dataframe tbody tr th:only-of-type {\n",
              "        vertical-align: middle;\n",
              "    }\n",
              "\n",
              "    .dataframe tbody tr th {\n",
              "        vertical-align: top;\n",
              "    }\n",
              "\n",
              "    .dataframe thead th {\n",
              "        text-align: right;\n",
              "    }\n",
              "</style>\n",
              "<table border=\"1\" class=\"dataframe\">\n",
              "  <thead>\n",
              "    <tr style=\"text-align: right;\">\n",
              "      <th></th>\n",
              "      <th>date</th>\n",
              "      <th>trans</th>\n",
              "      <th>qty</th>\n",
              "      <th>price</th>\n",
              "    </tr>\n",
              "    <tr>\n",
              "      <th>symbol</th>\n",
              "      <th></th>\n",
              "      <th></th>\n",
              "      <th></th>\n",
              "      <th></th>\n",
              "    </tr>\n",
              "  </thead>\n",
              "  <tbody>\n",
              "    <tr>\n",
              "      <th>IBM</th>\n",
              "      <td>2</td>\n",
              "      <td>2</td>\n",
              "      <td>2</td>\n",
              "      <td>2</td>\n",
              "    </tr>\n",
              "    <tr>\n",
              "      <th>MSFT</th>\n",
              "      <td>1</td>\n",
              "      <td>1</td>\n",
              "      <td>1</td>\n",
              "      <td>1</td>\n",
              "    </tr>\n",
              "    <tr>\n",
              "      <th>RHAT</th>\n",
              "      <td>1</td>\n",
              "      <td>1</td>\n",
              "      <td>1</td>\n",
              "      <td>1</td>\n",
              "    </tr>\n",
              "  </tbody>\n",
              "</table>\n",
              "</div>"
            ],
            "text/plain": [
              "        date  trans  qty  price\n",
              "symbol                         \n",
              "IBM        2      2    2      2\n",
              "MSFT       1      1    1      1\n",
              "RHAT       1      1    1      1"
            ]
          },
          "execution_count": 29,
          "metadata": {},
          "output_type": "execute_result"
        }
      ],
      "source": [
        "df2.groupby('symbol').count()"
      ]
    },
    {
      "cell_type": "markdown",
      "metadata": {
        "id": "gjha1XF8j0EC"
      },
      "source": [
        "Pour réaliser la même chose qu'en SQL, il faut utiliser la méthode [size](http://pandas.pydata.org/pandas-docs/stable/generated/pandas.core.groupby.DataFrameGroupBy.size.html?highlight=size#pandas.core.groupby.DataFrameGroupBy.size)."
      ]
    },
    {
      "cell_type": "code",
      "execution_count": 30,
      "metadata": {
        "id": "K18xqVgDj0ED"
      },
      "outputs": [
        {
          "name": "stdout",
          "output_type": "stream",
          "text": [
            "[(2, '2006-03-28', 'BUY', 'IBM', 1000.0, 45.0, 2), (3, '2006-04-05', 'BUY', 'MSFT', 1000.0, 72.0, 1), (1, '2006-01-05', 'BUY', 'RHAT', 100.0, 35.14, 1)]\n"
          ]
        }
      ],
      "source": [
        "# Saisir par conséquent l'instruction avec size et exécuter...\n",
        "\n",
        "c.execute('SELECT *, COUNT(*) AS size FROM stocks GROUP BY \"symbol\"')\n",
        "print(c.fetchall())\n"
      ]
    },
    {
      "cell_type": "code",
      "execution_count": 31,
      "metadata": {
        "id": "ZfthXGMoj0EH"
      },
      "outputs": [
        {
          "name": "stdout",
          "output_type": "stream",
          "text": [
            "102.57\n"
          ]
        }
      ],
      "source": [
        "# calculer maintenant le prix \"price\" moyen et le multiplier par 2\n",
        "\n",
        "c.execute('SELECT price FROM stocks')\n",
        "a = 0\n",
        "valeurs = c.fetchall()\n",
        "longueur = len(valeurs)\n",
        "for i in range(len(valeurs)) :\n",
        "    a = valeurs[i][0]+ a\n",
        "a = (a/longueur)*2\n",
        "print(a)\n",
        "\n",
        "# Faites des recherches pour utiliser les méthodes apply et lambda"
      ]
    },
    {
      "cell_type": "markdown",
      "metadata": {
        "id": "m1F85H4zj0EJ"
      },
      "source": [
        "## Enregistrer une table SQL sous un autre format\n",
        "\n",
        "On utilise le package csv, l'option 'w' pour 'write'.\n",
        "\n",
        "On crée l'objet \"writer\", qui vient du package csv.\n",
        "\n",
        "Cet objet a deux méthodes :\n",
        "- writerow pour les noms de colonnes  : une liste\n",
        "- writerows pour les lignes : un ensemble de liste\n"
      ]
    },
    {
      "cell_type": "code",
      "execution_count": 32,
      "metadata": {
        "collapsed": true,
        "id": "rIyqZt2fj0EK",
        "jupyter": {
          "outputs_hidden": true
        }
      },
      "outputs": [],
      "source": [
        "data = c.execute('SELECT * FROM stocks')\n",
        "\n",
        "import csv\n",
        "\n",
        "with open('./output.csv', 'w') as file:\n",
        "    writer = csv.writer(file)\n",
        "    writer.writerow([]) #il faut saisir la liste des colonnes de la table\n",
        "    writer.writerows(data)"
      ]
    },
    {
      "cell_type": "markdown",
      "metadata": {
        "id": "-Sc_RF7jj0EK"
      },
      "source": [
        "On peut également passer par un DataFrame pandas et utiliser .to_csv().\n",
        "\n",
        "A la fin de cette activité vous pouvez supprimer la table stocks et fermer la connection."
      ]
    },
    {
      "cell_type": "code",
      "execution_count": 33,
      "metadata": {
        "id": "uWC_3E-rCx8r"
      },
      "outputs": [],
      "source": [
        "#Saisir votre réponse ici....\n",
        "# proposer une solution avec .to_CSV()\n",
        "\n",
        "df2.to_csv('data.csv')\n",
        "\n",
        "# Supprimer la table et fermer la connection\n",
        "\n",
        "conn.close()\n",
        "import os\n",
        "os.remove('data.csv')"
      ]
    },
    {
      "cell_type": "markdown",
      "metadata": {
        "id": "-RL648oCj0EL"
      },
      "source": [
        "# **Activité 3**"
      ]
    },
    {
      "cell_type": "markdown",
      "metadata": {
        "id": "aTJhct-UWeBl"
      },
      "source": [
        "\n",
        "\n",
        "1.   Créer une base de données nommé VillesFrances avec SQLite\n",
        "2.   Créer une connection et un curseur.\n",
        "\n",
        "3.   Créer une table villes s'appuyant sur le modèle du fichier csv [data.gouv](https://www.data.gouv.fr/fr/datasets/r/dbe8a621-a9c4-4bc3-9cae-be1699c5ff25).\n",
        "4.   Insérer au moins cinq lignes (villes de votre choix) de données dans la table et maximum 10 avec SQLite.\n",
        "5.  Faites de même avec panda.\n",
        "\n",
        "6.  Afficher avec des requêtes SQL les informations suivantes:\n",
        "\n",
        "Faites les insertions de données nécessaires pour tester le fonctionnements de vos requêtes.\n",
        "\n",
        "*   La liste des villes d'un même département avec leur longitude et lattitude.\n",
        "*   Afficher la ville qui a une lattitude et une longitude maximalles\n",
        "\n",
        "\n",
        "7. Créer une DataFrame avec Panda pour afficher les mêmes informations.\n",
        "\n",
        "\n",
        "Commenter chaque solution.\n",
        "\n",
        "\n",
        "\n",
        "\n",
        "\n"
      ]
    },
    {
      "cell_type": "code",
      "execution_count": 34,
      "metadata": {
        "id": "bu6Q3M3pNZ6E"
      },
      "outputs": [
        {
          "name": "stdout",
          "output_type": "stream",
          "text": [
            "[('Abergement-Clémenciat', 46.1534255214, 4.92611354223), ('Abergement-de-Varey', 46.0091878776, 5.42801696363), ('Ambérieu-en-Bugey', 45.9608475114, 5.3729257777), ('Ambérieux-en-Dombes', 45.9961799872, 4.91227250796), ('Ambléon', 45.7494989044, 5.59432017366)]\n",
            "[('Abergement-de-Varey',)]\n",
            "             nom_commune   latitude  longitude\n",
            "0  Abergement-Clémenciat  46.153426   4.926114\n",
            "1    Abergement-de-Varey  46.009188   5.428017\n",
            "2      Ambérieu-en-Bugey  45.960848   5.372926\n",
            "3    Ambérieux-en-Dombes  45.996180   4.912273\n",
            "4                Ambléon  45.749499   5.594320\n",
            "Abergement-de-Varey\n"
          ]
        }
      ],
      "source": [
        "# Saisir votre code ici\n",
        "\n",
        "import sqlite3\n",
        "open(\"./VillesFrances.db\", \"w\").close()\n",
        "conn = sqlite3.connect('VillesFrances.db')\n",
        "c = conn.cursor()\n",
        "c.execute(\"CREATE TABLE villes (code_commune_INSEE TEXT,nom_commune_postal TEXT,code_postal TEXT,libelle_acheminement TEXT,ligne_5 TEXT,latitude REAL,longitude REAL,code_commune TEXT,article TEXT,nom_commune TEXT,nom_commune_complet TEXT,code_departement TEXT,nom_departement TEXT,code_region TEXT,nom_region TEXT,PRIMARY KEY (code_commune_INSEE))\")\n",
        "\n",
        "#données des 5 premières lignes du fichier\n",
        "ajouté = [\n",
        "    ('1001', 'L ABERGEMENT CLEMENCIAT', '1400', 'L ABERGEMENT CLEMENCIAT', '', 46.1534255214, 4.92611354223, '1', \"L'\", 'Abergement-Clémenciat', \"L'Abergement-Clémenciat\", '1', 'Ain', '84', 'Auvergne-Rhône-Alpes'),\n",
        "    ('1002', 'L ABERGEMENT DE VAREY', '1640', 'L ABERGEMENT DE VAREY', '', 46.0091878776, 5.42801696363, '2', \"L'\", 'Abergement-de-Varey', \"L'Abergement-de-Varey\", '1', 'Ain', '84', 'Auvergne-Rhône-Alpes'),\n",
        "    ('1004', 'AMBERIEU EN BUGEY', '1500', 'AMBERIEU EN BUGEY', '', 45.9608475114, 5.3729257777, '4', '', 'Ambérieu-en-Bugey', 'Ambérieu-en-Bugey', '1', 'Ain', '84', 'Auvergne-Rhône-Alpes'),\n",
        "    ('1005', 'AMBERIEUX EN DOMBES', '1330', 'AMBERIEUX EN DOMBES', '', 45.9961799872, 4.91227250796, '5', '', 'Ambérieux-en-Dombes', 'Ambérieux-en-Dombes', '1', 'Ain', '84', 'Auvergne-Rhône-Alpes'),\n",
        "    ('1006', 'AMBLEON', '1300', 'AMBLEON', '', 45.7494989044, 5.59432017366, '6', '', 'Ambléon', 'Ambléon', '1', 'Ain', '84', 'Auvergne-Rhône-Alpes')\n",
        "]\n",
        "\n",
        "c.executemany('''INSERT INTO villes VALUES (?, ?, ?, ?, ?, ?, ?, ?, ?, ?, ?, ?, ?, ?, ?)''',ajouté)\n",
        "\n",
        "#print ceux qui ont un code departemental de 1 \n",
        "c.execute(\"SELECT nom_commune, latitude, longitude FROM villes WHERE code_departement = '1'\")\n",
        "print(c.fetchall())\n",
        "\n",
        "#additionne latitude avec la longitude et on prend celui qui a la plus grosse somme\n",
        "c.execute(\"SELECT nom_commune FROM villes WHERE latitude + longitude = (SELECT MAX(latitude + longitude) FROM villes)\")\n",
        "print(c.fetchall())\n",
        "\n",
        "import pandas as pd\n",
        "\n",
        "df = pd.read_sql_query(\"SELECT * FROM villes\", conn)\n",
        "df_dep_1 = df[df['code_departement'] == '1']\n",
        "print(df_dep_1[['nom_commune', 'latitude', 'longitude']])\n",
        "\n",
        "max_sum_row = df.iloc[(df['latitude'] + df['longitude']).idxmax()]\n",
        "print(max_sum_row['nom_commune'])\n",
        "\n",
        "conn.commit()\n",
        "conn.close()"
      ]
    }
  ],
  "metadata": {
    "anaconda-cloud": {},
    "colab": {
      "provenance": [
        {
          "file_id": "1wXHDAK6CHbQtDyH5hmf7hbU63EwRA4zY",
          "timestamp": 1612729007051
        }
      ],
      "toc_visible": true
    },
    "kernelspec": {
      "display_name": "Python 3",
      "language": "python",
      "name": "python3"
    },
    "language_info": {
      "codemirror_mode": {
        "name": "ipython",
        "version": 3
      },
      "file_extension": ".py",
      "mimetype": "text/x-python",
      "name": "python",
      "nbconvert_exporter": "python",
      "pygments_lexer": "ipython3",
      "version": "3.11.1"
    }
  },
  "nbformat": 4,
  "nbformat_minor": 4
}
